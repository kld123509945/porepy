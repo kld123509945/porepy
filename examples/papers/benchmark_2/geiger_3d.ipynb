{
 "cells": [
  {
   "cell_type": "markdown",
   "metadata": {},
   "source": [
    "# Regular 3d fracture network\n",
    "\n",
    "### Problem description\n",
    "\n",
    "Three-dimensional problem, based on the test case 4.1 from the benchmark study [Flemisch 2017]. The geometry is slightly modified to allow a full 3d solution field. Both low permeable and high permeable fractures with respect to the rock matrix are considered.\n",
    "\n",
    "### Data of the problem\n",
    "\n",
    "The domain is $\\Omega = (0, 1)^3$ and 9 fractures are present, see the `file geiger_3d.csv` for the coordinates. A graphical representation is given by<br>\n",
    "<img src=\"geiger_network_0.png\" width=\"50%\"/>\n",
    "\n",
    "Given a reference aperture $\\varepsilon_{ref}$, we set for each dimension $d$ the aperture as $\\varepsilon^d = \\varepsilon_{ref}^{3-d}$.\n",
    "\n",
    "We define the pressure boundary $\\partial \\Omega_{p} = \\{ (x, y, z) \\in \\partial \\Omega: x, y, z > 0.75\\}$, we introduce also the non-homogeneous flux boundary $\\partial \\Omega_{flux} = \\{ (x, y, z) \\in \\partial \\Omega: x, y, z < 0.5\\}$. On $\\partial \\Omega_{p}$ we impose unitary pressure condition, while on $\\partial \\Omega_{flux}$ we impose $-1$ as flux boundary condition. On the rest of the boundary of $\\Omega$ we impose homogeneous flux conditions. It is important to note that for the fractures we impose always the latter. The matrix permeability is given by DESCRIBE\n",
    "\n",
    "Two test cases are considered\n",
    "1. high permeable fractures, we set $k_{f, n} = k_{f, t} = 10^4$\n",
    "2. low permeable fractures, we set $k_{f, n} = k_{f, t} = 10^{-4}$\n",
    "\n",
    "In the code it is possible to select the test by setting the following line to 1 or 2."
   ]
  },
  {
   "cell_type": "code",
   "execution_count": 1,
   "metadata": {},
   "outputs": [],
   "source": [
    "test_case = 1\n",
    "assert test_case == 1 or test_case == 2"
   ]
  },
  {
   "cell_type": "markdown",
   "metadata": {},
   "source": [
    "We import the fracture network geometry and the domain, we create the grids and compute all the geometrical quantities."
   ]
  },
  {
   "cell_type": "code",
   "execution_count": 2,
   "metadata": {
    "scrolled": true
   },
   "outputs": [
    {
     "name": "stdout",
     "output_type": "stream",
     "text": [
      "Use existing intersections\n",
      "Use existing decomposition\n",
      "Using old version of mesh size determination\n",
      "Gmsh processed file successfully\n",
      "\n",
      "\n",
      "Grid creation completed. Elapsed time 0.16308355331420898\n",
      "\n",
      "\n",
      "Created 1 3-d grids with 3773 cells\n",
      "Created 9 2-d grids with 792 cells\n",
      "Created 69 1-d grids with 90 cells\n",
      "Created 27 0-d grids with 27 cells\n",
      "\n",
      "\n"
     ]
    }
   ],
   "source": [
    "import numpy as np\n",
    "from porepy.fracs import importer\n",
    "\n",
    "# geometrical tolerance\n",
    "tol = 1e-8\n",
    "\n",
    "# define the mesh size\n",
    "h = 0.15\n",
    "grid_kwargs = {}\n",
    "grid_kwargs['mesh_size'] = {'mode': 'constant', 'value': h, 'bound_value': h, 'tol': tol}\n",
    "\n",
    "# first line in the file is the domain boundary, the others the fractures\n",
    "file_dfm = 'geiger_3d.csv'\n",
    "\n",
    "# import the dfm and generete the grids\n",
    "gb, domain = importer.dfm_3d_from_csv(file_dfm, tol, **grid_kwargs)\n",
    "gb.compute_geometry()"
   ]
  },
  {
   "cell_type": "markdown",
   "metadata": {},
   "source": [
    "To following lines are mandatory for dual vem approximation, however they will be removed in a newer version of the code."
   ]
  },
  {
   "cell_type": "code",
   "execution_count": 3,
   "metadata": {
    "scrolled": false
   },
   "outputs": [],
   "source": [
    "%%capture\n",
    "from porepy.grids.grid import FaceTag\n",
    "\n",
    "internal_flag = FaceTag.FRACTURE\n",
    "[g.remove_face_tag_if_tag(FaceTag.BOUNDARY, internal_flag) for g, _ in gb]"
   ]
  },
  {
   "cell_type": "markdown",
   "metadata": {},
   "source": [
    "We introduce some of the data for the problem, others are hard coded in the class `DarcyModelData` in the file `geiger_3d_data.py` (mainly the definition of boundary conditions)."
   ]
  },
  {
   "cell_type": "code",
   "execution_count": 4,
   "metadata": {},
   "outputs": [],
   "source": [
    "# select the permeability depending on the selected test case\n",
    "if test_case == 1:\n",
    "    kf = 1e4\n",
    "else:\n",
    "    kf = 1e-4\n",
    "data_problem = {'domain': domain, 'tol': tol, 'aperture': 1e-4, 'km_low': 1e-1, 'km': 1, 'kf': kf}"
   ]
  },
  {
   "cell_type": "markdown",
   "metadata": {},
   "source": [
    "Add the data to the grid bucket and the coupling permeability among objects of different dimensions."
   ]
  },
  {
   "cell_type": "code",
   "execution_count": 5,
   "metadata": {},
   "outputs": [],
   "source": [
    "from geiger_3d_data import DarcyModelData\n",
    "\n",
    "gb.add_node_props(['is_tangential', 'problem', 'frac_num', 'low_zones'])\n",
    "for g, d in gb:\n",
    "    d['problem'] = DarcyModelData(g, d, **data_problem)\n",
    "    d['is_tangential'] = True\n",
    "    d['low_zones'] = d['problem'].low_zones()\n",
    "\n",
    "    if g.dim == 2:\n",
    "        d['frac_num'] = g.frac_num*np.ones(g.num_cells)\n",
    "    else:\n",
    "        d['frac_num'] = -1*np.ones(g.num_cells)        \n",
    "\n",
    "# Assign coupling permeability, the aperture is read from the lower dimensional grid\n",
    "gb.add_edge_prop('kn')\n",
    "for e, d in gb.edges_props():\n",
    "    g_l = gb.sorted_nodes_of_edge(e)[0]\n",
    "    aperture = gb.node_prop(g_l, 'param').get_aperture()\n",
    "    d['kn'] = data_problem['kf'] / aperture"
   ]
  },
  {
   "cell_type": "markdown",
   "metadata": {},
   "source": [
    "Create the problem and solve it. Export the pressure and projected velocity for visualization."
   ]
  },
  {
   "cell_type": "code",
   "execution_count": 6,
   "metadata": {},
   "outputs": [],
   "source": [
    "from porepy.numerics import elliptic\n",
    "\n",
    "problem = elliptic.DualEllipticModel(gb)\n",
    "problem.solve()\n",
    "problem.split()\n",
    "\n",
    "problem.pressure('pressure')\n",
    "problem.discharge('discharge')\n",
    "problem.project_discharge('P0u')\n",
    "problem.save(['pressure', 'P0u', 'frac_num', 'low_zones'])"
   ]
  },
  {
   "cell_type": "markdown",
   "metadata": {},
   "source": [
    "To convert this script in pure python:"
   ]
  },
  {
   "cell_type": "code",
   "execution_count": 18,
   "metadata": {},
   "outputs": [
    {
     "name": "stdout",
     "output_type": "stream",
     "text": [
      "[NbConvertApp] Converting notebook geiger_3d.ipynb to script\n",
      "[NbConvertApp] Writing 599 bytes to geiger_3d.py\n"
     ]
    }
   ],
   "source": [
    "!jupyter nbconvert --to script geiger_3d.ipynb"
   ]
  }
 ],
 "metadata": {
  "kernelspec": {
   "display_name": "Python 3",
   "language": "python",
   "name": "python3"
  },
  "language_info": {
   "codemirror_mode": {
    "name": "ipython",
    "version": 3
   },
   "file_extension": ".py",
   "mimetype": "text/x-python",
   "name": "python",
   "nbconvert_exporter": "python",
   "pygments_lexer": "ipython3",
   "version": "3.6.4"
  }
 },
 "nbformat": 4,
 "nbformat_minor": 2
}
