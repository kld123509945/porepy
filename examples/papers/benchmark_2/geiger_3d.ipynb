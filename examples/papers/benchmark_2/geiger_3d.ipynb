{
 "cells": [
  {
   "cell_type": "markdown",
   "metadata": {},
   "source": [
    "# Regular 3d fracture network\n",
    "\n",
    "Extension to 3d of the test case 4.1 from the benchmark study [Flemisch 2017]. Both low permeable and high permeable fractures are considered. The domain is $(0, 1)^3$ and 9 fractures are present, see the `file geiger_3d.csv` for the coordinates. A graphical representation is given by<br>\n",
    "<img src=\"geiger_network_0.png\" width=\"50%\"/>"
   ]
  },
  {
   "cell_type": "code",
   "execution_count": 34,
   "metadata": {
    "scrolled": true
   },
   "outputs": [
    {
     "name": "stdout",
     "output_type": "stream",
     "text": [
      "Use existing intersections\n",
      "Use existing decomposition\n",
      "Using old version of mesh size determination\n",
      "Gmsh processed file successfully\n",
      "\n",
      "\n",
      "Grid creation completed. Elapsed time 0.179154634475708\n",
      "\n",
      "\n",
      "Created 1 3-d grids with 9430 cells\n",
      "Created 9 2-d grids with 1788 cells\n",
      "Created 69 1-d grids with 159 cells\n",
      "Created 27 0-d grids with 27 cells\n",
      "\n",
      "\n"
     ]
    }
   ],
   "source": [
    "import numpy as np\n",
    "from porepy.fracs import importer\n",
    "\n",
    "# geometrical tolerance\n",
    "tol = 1e-8\n",
    "\n",
    "# define the mesh size\n",
    "h = 0.1\n",
    "grid_kwargs = {}\n",
    "grid_kwargs['mesh_size'] = {'mode': 'constant', 'value': h, 'bound_value': h, 'tol': tol}\n",
    "\n",
    "# first line in the file is the domain boundary, the others the fractures\n",
    "file_dfm = 'geiger_3d.csv'\n",
    "gb, domain = importer.dfm_3d_from_csv(file_dfm, tol, **grid_kwargs)\n",
    "gb.compute_geometry()\n",
    "\n",
    "data_problem = {'domain': domain, 'tol': tol, 'aperture': 1e-4, 'km': 1, 'kf': 1e-4}"
   ]
  },
  {
   "cell_type": "markdown",
   "metadata": {},
   "source": [
    "To following lines will be removed in a newer version."
   ]
  },
  {
   "cell_type": "code",
   "execution_count": 30,
   "metadata": {
    "scrolled": false
   },
   "outputs": [],
   "source": [
    "%%capture\n",
    "from porepy.grids.grid import FaceTag\n",
    "\n",
    "internal_flag = FaceTag.FRACTURE\n",
    "[g.remove_face_tag_if_tag(FaceTag.BOUNDARY, internal_flag) for g, _ in gb]"
   ]
  },
  {
   "cell_type": "markdown",
   "metadata": {},
   "source": [
    "We introduce the class defining most of the data for the problem."
   ]
  },
  {
   "cell_type": "code",
   "execution_count": 31,
   "metadata": {},
   "outputs": [],
   "source": [
    "from porepy.params import tensor\n",
    "from porepy.params.bc import BoundaryCondition\n",
    "from porepy.numerics import elliptic\n",
    "\n",
    "#------------------------------------------------------------------------------#\n",
    "\n",
    "class DarcyModelData(elliptic.EllipticDataAssigner):\n",
    "    def __init__(self, g, data, **kwargs):\n",
    "        self.domain = kwargs['domain']\n",
    "        self.tol = kwargs['tol']\n",
    "\n",
    "        self.apert = kwargs['aperture']\n",
    "        self.km = kwargs['km']\n",
    "        self.kf = kwargs['kf']\n",
    "        \n",
    "        # define two pieces of the boundary, useful to impose boundary conditions\n",
    "        b_face = g.get_domain_boundary_faces()\n",
    "        self.flux_boundary = np.empty(0)\n",
    "        self.pressure_boundary = np.empty(0)\n",
    "        \n",
    "        if b_face.size > 0:\n",
    "            b_face_centers = g.face_centers[:, b_face]\n",
    "            \n",
    "            val = 0.5 - self.tol\n",
    "            self.b_flux = np.logical_and.reduce(tuple(b_face_centers[i, :] < val for i in range(3)))\n",
    "           \n",
    "            val = 0.75 + self.tol\n",
    "            self.b_pressure = np.logical_and.reduce(tuple(b_face_centers[i, :] > val for i in range(3)))\n",
    "        \n",
    "        elliptic.EllipticDataAssigner.__init__(self, g, data)\n",
    "\n",
    "    def aperture(self):\n",
    "        return np.power(self.apert, 3 - self.grid().dim)\n",
    "\n",
    "    def bc(self):\n",
    "        bound_faces = self.grid().get_domain_boundary_faces()\n",
    "        if bound_faces.size == 0:\n",
    "            return BoundaryCondition(self.grid(), np.empty(0), np.empty(0))\n",
    "\n",
    "        labels = np.array(['neu'] * bound_faces.size)\n",
    "        labels[self.b_flux] = 'dir' # aaaaaaaaaaaaaaaaaaaaaaaaaa should be neu as well\n",
    "        labels[self.b_pressure] = 'dir'\n",
    "\n",
    "        return BoundaryCondition(self.grid(), bound_faces, labels)\n",
    "\n",
    "    def bc_val(self):\n",
    "        bc_val = np.zeros(self.grid().num_faces)\n",
    "        bound_faces = self.grid().get_domain_boundary_faces()\n",
    "        if bound_faces.size > 0:\n",
    "            bc_val[bound_faces[self.b_flux]] = 1\n",
    "            bc_val[bound_faces[self.b_pressure]] = -1\n",
    "        \n",
    "        return bc_val\n",
    "\n",
    "    def permeability(self):\n",
    "        if self.grid().dim == 3:\n",
    "            kxx = self.km * np.ones(self.grid().num_cells)\n",
    "            return tensor.SecondOrder(self.grid().dim, kxx=kxx, kyy=kxx, kzz=kxx)\n",
    "        elif self.grid().dim == 2:\n",
    "            kxx = self.kf * np.ones(self.grid().num_cells)\n",
    "            return tensor.SecondOrder(self.grid().dim, kxx=kxx, kyy=kxx, kzz=1)\n",
    "        else: # dim == 1\n",
    "            kxx = self.kf * np.ones(self.grid().num_cells)\n",
    "            return tensor.SecondOrder(self.grid().dim, kxx=kxx, kyy=1, kzz=1)"
   ]
  },
  {
   "cell_type": "markdown",
   "metadata": {},
   "source": [
    "Add the data to the grid bucket and the coupling permeability among objects of different dimensions."
   ]
  },
  {
   "cell_type": "code",
   "execution_count": 32,
   "metadata": {},
   "outputs": [],
   "source": [
    "gb.add_node_props(['is_tangential', 'problem', 'frac_num'])\n",
    "for g, d in gb:\n",
    "    d['problem'] = DarcyModelData(g, d, **data_problem)\n",
    "    d['is_tangential'] = True\n",
    "\n",
    "    if g.dim == 2:\n",
    "        d['frac_num'] = g.frac_num*np.ones(g.num_cells)\n",
    "    else:\n",
    "        d['frac_num'] = -1*np.ones(g.num_cells)        \n",
    "\n",
    "# Assign coupling permeability, the aperture is read from the lower dimensional grid\n",
    "gb.add_edge_prop('kn')\n",
    "for e, d in gb.edges_props():\n",
    "    g_l = gb.sorted_nodes_of_edge(e)[0]\n",
    "    aperture = gb.node_prop(g_l, 'param').get_aperture()\n",
    "    d['kn'] = data_problem['kf'] / aperture"
   ]
  },
  {
   "cell_type": "code",
   "execution_count": 33,
   "metadata": {},
   "outputs": [],
   "source": [
    "problem = elliptic.DualEllipticModel(gb)\n",
    "problem.solve()\n",
    "problem.split()\n",
    "\n",
    "problem.pressure('pressure')\n",
    "problem.discharge('discharge')\n",
    "problem.project_discharge('P0u')\n",
    "problem.save(['pressure', 'P0u', 'frac_num'])"
   ]
  },
  {
   "cell_type": "code",
   "execution_count": 22,
   "metadata": {},
   "outputs": [],
   "source": []
  },
  {
   "cell_type": "markdown",
   "metadata": {},
   "source": [
    "To convert this script in pure python:"
   ]
  },
  {
   "cell_type": "code",
   "execution_count": 18,
   "metadata": {},
   "outputs": [
    {
     "name": "stdout",
     "output_type": "stream",
     "text": [
      "[NbConvertApp] Converting notebook geiger_3d.ipynb to script\n",
      "[NbConvertApp] Writing 599 bytes to geiger_3d.py\n"
     ]
    }
   ],
   "source": [
    "!jupyter nbconvert --to script geiger_3d.ipynb"
   ]
  }
 ],
 "metadata": {
  "kernelspec": {
   "display_name": "Python 3",
   "language": "python",
   "name": "python3"
  },
  "language_info": {
   "codemirror_mode": {
    "name": "ipython",
    "version": 3
   },
   "file_extension": ".py",
   "mimetype": "text/x-python",
   "name": "python",
   "nbconvert_exporter": "python",
   "pygments_lexer": "ipython3",
   "version": "3.6.4"
  }
 },
 "nbformat": 4,
 "nbformat_minor": 2
}
