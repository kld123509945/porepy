{
 "cells": [
  {
   "cell_type": "markdown",
   "metadata": {},
   "source": [
    "# Regular 3d fracture network\n",
    "\n",
    "Extension to 3d of the test case 4.1 from the benchmark study [Flemisch 2017]. Both low permeable and high permeable fractures are considered. The domain is $(0, 1)^3$ and 9 fractures are present, see the `file geiger_3d.csv` for the coordinates. A graphical representation is given by<br>\n",
    "<img src=\"geiger_network_0.png\" width=\"50%\"/>"
   ]
  },
  {
   "cell_type": "code",
   "execution_count": 1,
   "metadata": {
    "scrolled": true
   },
   "outputs": [
    {
     "name": "stdout",
     "output_type": "stream",
     "text": [
      "Use existing intersections\n",
      "Use existing decomposition\n",
      "Using old version of mesh size determination\n",
      "Gmsh processed file successfully\n",
      "\n",
      "\n",
      "Grid creation completed. Elapsed time 0.11263847351074219\n",
      "\n",
      "\n",
      "Created 1 3-d grids with 3773 cells\n",
      "Created 9 2-d grids with 792 cells\n",
      "Created 69 1-d grids with 90 cells\n",
      "Created 27 0-d grids with 27 cells\n",
      "\n",
      "\n"
     ]
    }
   ],
   "source": [
    "import numpy as np\n",
    "from porepy.fracs import importer\n",
    "\n",
    "# geometrical tolerance\n",
    "tol = 1e-8\n",
    "\n",
    "# define the mesh size\n",
    "h = 0.15\n",
    "grid_kwargs = {}\n",
    "grid_kwargs['mesh_size'] = {'mode': 'constant', 'value': h, 'bound_value': h, 'tol': tol}\n",
    "\n",
    "# first line in the file is the domain boundary, the others the fractures\n",
    "file_dfm = 'geiger_3d.csv'\n",
    "gb, domain = importer.dfm_3d_from_csv(file_dfm, tol, **grid_kwargs)\n",
    "gb.compute_geometry()"
   ]
  },
  {
   "cell_type": "markdown",
   "metadata": {},
   "source": [
    "To following lines will be removed in a newer version."
   ]
  },
  {
   "cell_type": "code",
   "execution_count": 2,
   "metadata": {
    "scrolled": false
   },
   "outputs": [],
   "source": [
    "%%capture\n",
    "from porepy.grids.grid import FaceTag\n",
    "\n",
    "internal_flag = FaceTag.FRACTURE\n",
    "[g.remove_face_tag_if_tag(FaceTag.BOUNDARY, internal_flag) for g, _ in gb]"
   ]
  },
  {
   "cell_type": "markdown",
   "metadata": {},
   "source": [
    "We introduce the class defining most of the data for the problem."
   ]
  },
  {
   "cell_type": "code",
   "execution_count": 3,
   "metadata": {},
   "outputs": [],
   "source": [
    "data_problem = {'domain': domain, 'tol': tol, 'aperture': 1e-4, 'km': 1, 'kf': 1e4}"
   ]
  },
  {
   "cell_type": "markdown",
   "metadata": {},
   "source": [
    "Add the data to the grid bucket and the coupling permeability among objects of different dimensions."
   ]
  },
  {
   "cell_type": "code",
   "execution_count": 4,
   "metadata": {},
   "outputs": [],
   "source": [
    "from geiger_3d_data import DarcyModelData\n",
    "\n",
    "gb.add_node_props(['is_tangential', 'problem', 'frac_num'])\n",
    "for g, d in gb:\n",
    "    d['problem'] = DarcyModelData(g, d, **data_problem)\n",
    "    d['is_tangential'] = True\n",
    "\n",
    "    if g.dim == 2:\n",
    "        d['frac_num'] = g.frac_num*np.ones(g.num_cells)\n",
    "    else:\n",
    "        d['frac_num'] = -1*np.ones(g.num_cells)        \n",
    "\n",
    "# Assign coupling permeability, the aperture is read from the lower dimensional grid\n",
    "gb.add_edge_prop('kn')\n",
    "for e, d in gb.edges_props():\n",
    "    g_l = gb.sorted_nodes_of_edge(e)[0]\n",
    "    aperture = gb.node_prop(g_l, 'param').get_aperture()\n",
    "    d['kn'] = data_problem['kf'] / aperture"
   ]
  },
  {
   "cell_type": "code",
   "execution_count": 5,
   "metadata": {},
   "outputs": [],
   "source": [
    "from porepy.numerics import elliptic\n",
    "\n",
    "problem = elliptic.DualEllipticModel(gb)\n",
    "problem.solve()\n",
    "problem.split()\n",
    "\n",
    "problem.pressure('pressure')\n",
    "problem.discharge('discharge')\n",
    "problem.project_discharge('P0u')\n",
    "problem.save(['pressure', 'P0u', 'frac_num'])"
   ]
  },
  {
   "cell_type": "code",
   "execution_count": 22,
   "metadata": {},
   "outputs": [],
   "source": []
  },
  {
   "cell_type": "markdown",
   "metadata": {},
   "source": [
    "To convert this script in pure python:"
   ]
  },
  {
   "cell_type": "code",
   "execution_count": 18,
   "metadata": {},
   "outputs": [
    {
     "name": "stdout",
     "output_type": "stream",
     "text": [
      "[NbConvertApp] Converting notebook geiger_3d.ipynb to script\n",
      "[NbConvertApp] Writing 599 bytes to geiger_3d.py\n"
     ]
    }
   ],
   "source": [
    "!jupyter nbconvert --to script geiger_3d.ipynb"
   ]
  }
 ],
 "metadata": {
  "kernelspec": {
   "display_name": "Python 3",
   "language": "python",
   "name": "python3"
  },
  "language_info": {
   "codemirror_mode": {
    "name": "ipython",
    "version": 3
   },
   "file_extension": ".py",
   "mimetype": "text/x-python",
   "name": "python",
   "nbconvert_exporter": "python",
   "pygments_lexer": "ipython3",
   "version": "3.6.4"
  }
 },
 "nbformat": 4,
 "nbformat_minor": 2
}
